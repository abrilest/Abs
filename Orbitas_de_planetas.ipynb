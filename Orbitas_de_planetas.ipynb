{
  "nbformat": 4,
  "nbformat_minor": 0,
  "metadata": {
    "colab": {
      "provenance": [],
      "authorship_tag": "ABX9TyOtdUfeOjTo8gWpWoOA+SE/",
      "include_colab_link": true
    },
    "kernelspec": {
      "name": "python3",
      "display_name": "Python 3"
    },
    "language_info": {
      "name": "python"
    }
  },
  "cells": [
    {
      "cell_type": "markdown",
      "metadata": {
        "id": "view-in-github",
        "colab_type": "text"
      },
      "source": [
        "<a href=\"https://colab.research.google.com/github/abrilest/Abs/blob/master/Orbitas_de_planetas.ipynb\" target=\"_parent\"><img src=\"https://colab.research.google.com/assets/colab-badge.svg\" alt=\"Open In Colab\"/></a>"
      ]
    },
    {
      "cell_type": "code",
      "execution_count": null,
      "metadata": {
        "id": "4zvYBqQxfzkn"
      },
      "outputs": [],
      "source": [
        "import os\n",
        "import numpy as np\n",
        "import matplotlib.pyplot as plt\n",
        "import math as math\n"
      ]
    },
    {
      "cell_type": "code",
      "source": [
        "def solar(x0, y0, z0, vx0, vy0, vz0, t0=0, dt=0.01 ,nsteps=100):\n",
        "    G = 4*(np.pi**2)\n",
        "    M = 1\n",
        "    rp = np.sqrt( x0*2 + y0**2 + z0**2 ) \n",
        "    x = [x0] \n",
        "    y = [y0]\n",
        "    z = [z0]\n",
        "    t = [t0]\n",
        "    for i in range(1, nsteps):\n",
        "        Vxi = vx0 - ( (G*M) / rp**3 )*x0 *dt \n",
        "        xi = x0 + Vxi*dt\n",
        "        Vyi = vy0 - ( (G*M) / rp**3 )*y0 *dt \n",
        "        yi = y0 + Vyi*dt\n",
        "        Vzi = vz0 - ( (G*M) / rp**3 )*z0 *dt \n",
        "        zi = z0 + Vzi*dt\n",
        "        x.append(xi)\n",
        "        y.append(yi)\n",
        "        z.append(zi)\n",
        "        t.append(t0+dt*i)\n",
        "        x0 = xi\n",
        "        vx0 = Vxi \n",
        "        y0= yi\n",
        "        vy0 = Vyi\n",
        "        z0 = zi\n",
        "        vz0 = Vzi\n",
        "        \n",
        "    return x, y, z, t"
      ],
      "metadata": {
        "id": "JpcmtVWFf5qg"
      },
      "execution_count": null,
      "outputs": []
    },
    {
      "cell_type": "code",
      "source": [
        "x,y,z,t=solar(0.0508011, 0.022318, -0.4011642, -0.2195576,0.00485553,0.00027924,nsteps=100)\n",
        "plt.plot(x,y)"
      ],
      "metadata": {
        "colab": {
          "base_uri": "https://localhost:8080/",
          "height": 282
        },
        "id": "u2MHBficf90h",
        "outputId": "d981feb1-48b5-4aa1-bf71-a9767a9da99a"
      },
      "execution_count": null,
      "outputs": [
        {
          "output_type": "execute_result",
          "data": {
            "text/plain": [
              "[<matplotlib.lines.Line2D at 0x7fdd026895b0>]"
            ]
          },
          "metadata": {},
          "execution_count": 8
        },
        {
          "output_type": "display_data",
          "data": {
            "text/plain": [
              "<Figure size 432x288 with 1 Axes>"
            ],
            "image/png": "[encoded data removed]"
          },
          "metadata": {
            "needs_background": "light"
          }
        }
      ]
    }
  ]
}